{
 "cells": [
  {
   "cell_type": "markdown",
   "id": "40a7eb32",
   "metadata": {},
   "source": [
    "## Deploy do Projeto com o Streamlit"
   ]
  },
  {
   "cell_type": "code",
   "execution_count": 2,
   "id": "68b6eb66",
   "metadata": {},
   "outputs": [],
   "source": [
    "import pandas as pd\n",
    "import streamlit as st\n",
    "import joblib"
   ]
  },
  {
   "cell_type": "code",
   "execution_count": 1,
   "id": "9fdab30b",
   "metadata": {},
   "outputs": [],
   "source": [
    "# as colunas foram separadas em dicionários por tipo de dados que cada uma armazena:\n",
    "# valores numericos\n",
    "# valores True e False\n",
    "# valores listas\n",
    "\n",
    "x_numericos = {'latitude': 0, 'longitude': 0, 'accommodates': 0, 'bathrooms': 0, 'bedrooms': 0, 'beds': 0, 'extra_people': 0,\n",
    "               'minimum_nights': 0, 'ano': 0, 'mes': 0, 'n_amenities': 0, 'host_listings_count': 0}\n",
    "\n",
    "x_tf = {'host_is_superhost': 0, 'instant_bookable': 0}\n",
    "\n",
    "x_listas = {'property_type': ['Apartment', 'Bed and breakfast', 'Condominium', 'Guest suite', 'Guesthouse', 'Hostel', 'House', 'Loft', 'Outros', 'Serviced apartment'],\n",
    "            'room_type': ['Entire home/apt', 'Hotel room', 'Private room', 'Shared room'],\n",
    "            'cancelation_policy': ['flexible', 'moderate', 'strict', 'strict_14_with_grace_period']}\n",
    "\n",
    "# aqui estamos criando um novo dict com: 'property_type_Apartment':0, 'property_type_Bed and breakfast':0, ...\n",
    "dicionario = {}\n",
    "for item in x_listas:\n",
    "    for valor in x_listas[item]:\n",
    "        dicionario[f'{item}_{valor}'] = 0"
   ]
  },
  {
   "cell_type": "code",
   "execution_count": null,
   "id": "9c5492b7",
   "metadata": {},
   "outputs": [],
   "source": [
    "# a partir dos dicionários, vamos criar o botões da aplicação que irão receber os inputs do usuário\n",
    "\n",
    "for item in x_numericos:\n",
    "    if item == \"latitude\" or item == \"longitude\":\n",
    "        valor = st.number_input(f'{item}', step=0.00001, value=0.0, format=\"%.5f\")\n",
    "    elif item == \"extra_people\":\n",
    "        valor = st.number_input(f'{item}', step=0.01, value=0.0)\n",
    "    else:\n",
    "        valor = st.number_input(f'{item}', step=1, value=0)\n",
    "    x_numericos[item] = valor\n",
    "    \n",
    "for item in x_tf:\n",
    "    valor = st.selectbox(f'{item}', ('Sim', 'Não'))\n",
    "    if valor == 'Sim':\n",
    "        x_tf[item] = 1\n",
    "    else:\n",
    "        x_tf[item] = 0\n",
    "    \n",
    "for item in x_listas:\n",
    "    valor = st.selectbox(f'{item}', x_listas[item])\n",
    "    dicionario[f'{item}_{valor}'] = 1\n",
    "    \n",
    "botao = st.button('Prever Valor do Imóvel')\n",
    "\n",
    "if botao:\n",
    "    dicionario.update(x_numericos)\n",
    "    dicionario.update(x_tf)\n",
    "    valores_x = pd.DataFrame(dicionario, index=[0])\n",
    "    modelo = joblib.load('modelo.joblib')\n",
    "    preco = modelo.predict(valores_x)\n",
    "    \n",
    "    st.write(preco[0])"
   ]
  },
  {
   "cell_type": "markdown",
   "id": "b58c5fe0",
   "metadata": {},
   "source": [
    "Para executar este codigo obrigatoriamente preciso rodar um arquivo .py, no jupiter seguiremos os seguintes passos:\n",
    "- file\n",
    "- download as\n",
    "- python, será iniciado o download de um novo arquivo .py\n",
    "\n",
    "Rodar o arquivo\n",
    "- prompt anaconda\n",
    "- cd downloads\n",
    "- streamlit run Deploy-Projeto-Airbnb.py\n",
    "- a irterface do Streamlit abrirá no chrome em localhost. 100% funcional.\n",
    "- preencher os campos solicitados e clicar no botão ao final para que o modelo trabalhe e retorne o preço do imóvel\n",
    "- para que o modelo rode corretamente o arquivo .py e o .joblib devem estar na mesma pasta"
   ]
  }
 ],
 "metadata": {
  "kernelspec": {
   "display_name": "Python 3 (ipykernel)",
   "language": "python",
   "name": "python3"
  },
  "language_info": {
   "codemirror_mode": {
    "name": "ipython",
    "version": 3
   },
   "file_extension": ".py",
   "mimetype": "text/x-python",
   "name": "python",
   "nbconvert_exporter": "python",
   "pygments_lexer": "ipython3",
   "version": "3.9.12"
  }
 },
 "nbformat": 4,
 "nbformat_minor": 5
}
